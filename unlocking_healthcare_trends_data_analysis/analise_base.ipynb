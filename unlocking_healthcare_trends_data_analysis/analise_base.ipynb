{
  "cells": [
    {
      "cell_type": "code",
      "execution_count": null,
      "metadata": {},
      "outputs": [],
      "source": [
        "%pip install pandas matplotlib"
      ]
    },
    {
      "cell_type": "code",
      "execution_count": null,
      "metadata": {
        "id": "C9pVQnlo-FNy"
      },
      "outputs": [],
      "source": [
        "import pandas as pd\n",
        "import matplotlib.pyplot as plt\n",
        "from func_analises import (\n",
        "    maiores_ocorrencias_por_genero,\n",
        "    grafico_entradas_por_hospital,\n",
        "    segmentacao_por_entrada_em_hospitais,\n",
        ")\n"
      ]
    },
    {
      "cell_type": "code",
      "execution_count": null,
      "metadata": {
        "id": "ACHvC_P4-Hu2"
      },
      "outputs": [],
      "source": [
        "diretorio_dados = \"healthcare_dataset.csv\"\n",
        "df = pd.read_csv(diretorio_dados, encoding=\"utf-8\", sep=\",\", decimal=\".\")"
      ]
    },
    {
      "cell_type": "markdown",
      "metadata": {},
      "source": [
        "# Informações base do DataFrame"
      ]
    },
    {
      "cell_type": "code",
      "execution_count": null,
      "metadata": {
        "id": "MsAbX5QgGIp5"
      },
      "outputs": [],
      "source": [
        "print(\"Primeiras cinco linhas da tabela:\")\n",
        "print(df.head())\n",
        "print(\"\\nUltimas cinco linhas da tabela:\")\n",
        "print(df.tail())\n",
        "print(\"\\nDescrição dos dados da tabela:\")\n",
        "print(df.describe())\n",
        "print(\"\\nInformação sobre as linhas e colunas das tabelas:\")\n",
        "print(df.info())"
      ]
    },
    {
      "cell_type": "code",
      "execution_count": null,
      "metadata": {},
      "outputs": [],
      "source": [
        "print(f\"O dataframe contém {df.shape[0]} linhas e {df.shape[1]} colunas.\")"
      ]
    },
    {
      "cell_type": "code",
      "execution_count": null,
      "metadata": {},
      "outputs": [],
      "source": [
        "# Verificando a quantidade de linhas vazias para cada coluna\n",
        "df.isnull().sum()"
      ]
    },
    {
      "cell_type": "code",
      "execution_count": null,
      "metadata": {},
      "outputs": [],
      "source": [
        "# Verificando valores e quantidade de todas as colunas do DataFrame\n",
        "colunas = df.columns.to_list()\n",
        "for nome_coluna in colunas:\n",
        "    print(f\"{df[nome_coluna].value_counts()} \\n\\n\")"
      ]
    },
    {
      "cell_type": "markdown",
      "metadata": {},
      "source": [
        "# Tratamento/Conversão de dados"
      ]
    },
    {
      "cell_type": "code",
      "execution_count": null,
      "metadata": {},
      "outputs": [],
      "source": [
        "# Convertendo as colunas referente a datas de objetos para datas\n",
        "df[\"Date of Admission\"] = pd.to_datetime(df[\"Date of Admission\"])\n",
        "df[\"Discharge Date\"] = pd.to_datetime(df[\"Discharge Date\"])\n",
        "df.info()"
      ]
    },
    {
      "cell_type": "code",
      "execution_count": null,
      "metadata": {},
      "outputs": [],
      "source": [
        "# Transformando os nomes em minúsculo e verficando\n",
        "df[\"Name\"] = df[\"Name\"].str.lower()\n",
        "df.head()"
      ]
    },
    {
      "cell_type": "markdown",
      "metadata": {},
      "source": [
        "# Dataframes e gráficos"
      ]
    },
    {
      "cell_type": "code",
      "execution_count": null,
      "metadata": {},
      "outputs": [],
      "source": [
        "# Ocorrências de condição médica segmentado pelo sexo feminino\n",
        "maiores_ocorrencias_feminina = maiores_ocorrencias_por_genero(df, \"Female\")\n",
        "df_ocorrencias_feminina = maiores_ocorrencias_feminina.reset_index(name=\"Count\")\n",
        "df_ocorrencias_feminina"
      ]
    },
    {
      "cell_type": "code",
      "execution_count": null,
      "metadata": {},
      "outputs": [],
      "source": [
        "plt.bar(df_ocorrencias_feminina[\"Medical Condition\"], df_ocorrencias_feminina[\"Count\"])\n",
        "plt.title(f\"Condição médica por Gênero: Mulheres\")\n",
        "plt.xlabel(\"Doenças\")\n",
        "plt.ylabel(\"Num. de Ocorrências\")\n",
        "plt.show()"
      ]
    },
    {
      "cell_type": "code",
      "execution_count": null,
      "metadata": {},
      "outputs": [],
      "source": [
        "# Dataframe: Ocorrências de condição médica segmentado pelo sexo masculino\n",
        "maiores_ocorrencias_masculina = maiores_ocorrencias_por_genero(df, \"Male\")\n",
        "df_ocorrencias_masculina = maiores_ocorrencias_masculina.reset_index(name=\"Count\")\n",
        "df_ocorrencias_masculina"
      ]
    },
    {
      "cell_type": "code",
      "execution_count": null,
      "metadata": {},
      "outputs": [],
      "source": [
        "# Gráfico de barras: Ocorrências de condição médica segmentado pelo sexo masculino\n",
        "plt.bar(\n",
        "    df_ocorrencias_masculina[\"Medical Condition\"], df_ocorrencias_masculina[\"Count\"]\n",
        ")\n",
        "plt.title(f\"Condição médica por Gênero: Homens\")\n",
        "plt.xlabel(\"Doenças\")\n",
        "plt.ylabel(\"Num. de Ocorrências\")\n",
        "plt.show()"
      ]
    },
    {
      "cell_type": "code",
      "execution_count": null,
      "metadata": {},
      "outputs": [],
      "source": [
        "# Dataframe: Entrada em hospitais do tipo \"Urgent\"\n",
        "segmentacao_por_entrada_em_hospitais(df, pd, admissao=\"Urgent\", numero_indicadores=5)"
      ]
    },
    {
      "cell_type": "code",
      "execution_count": null,
      "metadata": {},
      "outputs": [],
      "source": [
        "# Gráfico de pizza: Entrada em hospitais do tipo \"Urgent\"\n",
        "grafico_entradas_por_hospital(df, admissao=\"Urgent\", numero_indicadores=10)"
      ]
    },
    {
      "cell_type": "code",
      "execution_count": null,
      "metadata": {},
      "outputs": [],
      "source": [
        "# Dataframe: Entrada em hospitais do tipo \"Emergency\"\n",
        "segmentacao_por_entrada_em_hospitais(df, pd, admissao=\"Emergency\", numero_indicadores=5)"
      ]
    },
    {
      "cell_type": "code",
      "execution_count": null,
      "metadata": {},
      "outputs": [],
      "source": [
        "# Gráfico de pizza: Entrada em hospitais do tipo \"Emergency\"\n",
        "grafico_entradas_por_hospital(df, admissao=\"Emergency\", numero_indicadores=10)"
      ]
    },
    {
      "cell_type": "code",
      "execution_count": null,
      "metadata": {},
      "outputs": [],
      "source": [
        "# Dataframe: Entrada em hospitais do tipo \"Elective\"\n",
        "segmentacao_por_entrada_em_hospitais(df, pd, admissao=\"Elective\", numero_indicadores=5)"
      ]
    },
    {
      "cell_type": "code",
      "execution_count": null,
      "metadata": {},
      "outputs": [],
      "source": [
        "# Gráfico de pizza: Entrada em hospitais do tipo \"Elective\"\n",
        "grafico_entradas_por_hospital(df, admissao=\"Elective\", numero_indicadores=10)"
      ]
    },
    {
      "cell_type": "code",
      "execution_count": null,
      "metadata": {},
      "outputs": [],
      "source": [
        "# Dataframe: quantidade e medicação utilizada por tipo de entrada\n",
        "contagem_medicacao_por_entrada = (\n",
        "    df[[\"Medication\", \"Admission Type\"]]\n",
        "    .value_counts()\n",
        "    .reset_index(name=\"Counts\")\n",
        "    .sort_values(\n",
        "        by=[\"Medication\", \"Counts\"], ascending=[True, False], ignore_index=True\n",
        "    )\n",
        ")\n",
        "contagem_medicacao_por_entrada"
      ]
    },
    {
      "cell_type": "code",
      "execution_count": null,
      "metadata": {},
      "outputs": [],
      "source": [
        "# Gráfico: quantidade e medicação utilizada por tipo de entrada\n",
        "medicacoes_utilizadas = set(contagem_medicacao_por_entrada[\"Medication\"].tolist())\n",
        "tipos_de_entradas = set(contagem_medicacao_por_entrada[\"Admission Type\"].tolist())\n",
        "tabela_agrupada = {\n",
        "    entrada: {medicacao: 0 for medicacao in medicacoes_utilizadas}\n",
        "    for entrada in tipos_de_entradas\n",
        "}\n",
        "\n",
        "for _, row in contagem_medicacao_por_entrada.iterrows():\n",
        "    entrada = row[\"Admission Type\"]\n",
        "    medicacao = row[\"Medication\"]\n",
        "    contagem = row[\"Counts\"]\n",
        "    tabela_agrupada[entrada][medicacao] = contagem\n",
        "\n",
        "dataframe = pd.DataFrame(tabela_agrupada)\n",
        "dataframe.plot(kind=\"bar\", stacked=True)\n",
        "plt.title(\"Distribuição de Medicamentos por Tipo de Entrada\")\n",
        "plt.xlabel(\"Medicações\", labelpad=15)\n",
        "plt.subplots_adjust(top=1, bottom=0.3)\n",
        "plt.xticks(rotation=360)\n",
        "plt.legend(title=\"Medicações\", loc=\"upper left\", bbox_to_anchor=(1.05, 1))\n",
        "plt.show()"
      ]
    },
    {
      "cell_type": "code",
      "execution_count": null,
      "metadata": {},
      "outputs": [],
      "source": [
        "# Dataframe: relação de cobrança acumulada por hospitais\n",
        "maiores_cobrancas_acumuladas_por_hospitais = (\n",
        "    df.groupby(\"Hospital\")[\"Billing Amount\"]\n",
        "    .sum()\n",
        "    .reset_index()\n",
        "    .nlargest(10, \"Billing Amount\")\n",
        ")\n",
        "maiores_cobrancas_acumuladas_por_hospitais"
      ]
    },
    {
      "cell_type": "code",
      "execution_count": null,
      "metadata": {},
      "outputs": [],
      "source": [
        "# Gráfico: relação de cobrança acumulada por hospitais\n",
        "plt.bar(\n",
        "    maiores_cobrancas_acumuladas_por_hospitais[\"Hospital\"],\n",
        "    maiores_cobrancas_acumuladas_por_hospitais[\"Billing Amount\"].astype(int),\n",
        ")\n",
        "plt.title(label=\"Maiores cobranças acumuladas por hospital\")\n",
        "plt.xlabel(xlabel=\"Hospitais\")\n",
        "plt.xticks(rotation=90)\n",
        "plt.ticklabel_format(style=\"plain\", axis=\"y\")\n",
        "plt.show()"
      ]
    }
  ],
  "metadata": {
    "colab": {
      "provenance": []
    },
    "kernelspec": {
      "display_name": ".venv",
      "language": "python",
      "name": "python3"
    },
    "language_info": {
      "codemirror_mode": {
        "name": "ipython",
        "version": 3
      },
      "file_extension": ".py",
      "mimetype": "text/x-python",
      "name": "python",
      "nbconvert_exporter": "python",
      "pygments_lexer": "ipython3",
      "version": "3.12.3"
    }
  },
  "nbformat": 4,
  "nbformat_minor": 0
}
