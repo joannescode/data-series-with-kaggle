{
 "cells": [
  {
   "cell_type": "code",
   "execution_count": null,
   "metadata": {},
   "outputs": [],
   "source": [
    "%pip install pandas matplotlib seaborn"
   ]
  },
  {
   "cell_type": "code",
   "execution_count": 2,
   "metadata": {},
   "outputs": [],
   "source": [
    "import pandas as pd\n",
    "import matplotlib.pyplot as plt\n",
    "import seaborn as sns\n",
    "from func_analises import alternancia_entre_sexo_tipo_sanguineo_idade_e_medicacao"
   ]
  },
  {
   "cell_type": "code",
   "execution_count": 3,
   "metadata": {},
   "outputs": [],
   "source": [
    "diretorio_dados = \"healthcare_dataset.csv\"\n",
    "df = pd.read_csv(diretorio_dados, encoding=\"utf-8\", sep=\",\", decimal=\".\")"
   ]
  },
  {
   "cell_type": "code",
   "execution_count": null,
   "metadata": {},
   "outputs": [],
   "source": [
    "# Tratamentos básicos necessários\n",
    "df[\"Date of Admission\"] = pd.to_datetime(df[\"Date of Admission\"])\n",
    "df[\"Discharge Date\"] = pd.to_datetime(df[\"Discharge Date\"])\n",
    "df[\"Name\"] = df[\"Name\"].str.capitalize()\n",
    "df.info()"
   ]
  },
  {
   "cell_type": "markdown",
   "metadata": {},
   "source": [
    "## Relação de ocorrências médicas entre gênero, idade e tipo sanguíneo"
   ]
  },
  {
   "cell_type": "code",
   "execution_count": null,
   "metadata": {},
   "outputs": [],
   "source": [
    "(\n",
    "    df.groupby([\"Gender\", \"Blood Type\", \"Medical Condition\"])[\"Medical Condition\"]\n",
    "    .count()\n",
    "    .reset_index(name=\"Count\")\n",
    ")"
   ]
  },
  {
   "cell_type": "code",
   "execution_count": null,
   "metadata": {},
   "outputs": [],
   "source": [
    "data = df.groupby([\"Gender\", \"Blood Type\"])[\"Medical Condition\"].count().reset_index()\n",
    "data.columns = [\"Gênero\", \"Tipo Sanguíneo\", \"Contagem\"]\n",
    "plt.figure(figsize=(10, 6))\n",
    "sns.barplot(x=\"Tipo Sanguíneo\", y=\"Contagem\", hue=\"Gênero\", data=data)\n",
    "\n",
    "plt.title(\"Distribuição de Condições Médicas por Gênero e Tipo Sanguíneo\")\n",
    "plt.xlabel(\"Tipo Sanguíneo\")\n",
    "plt.ylabel(\"Número de Ocorrências\")\n",
    "plt.show()"
   ]
  },
  {
   "cell_type": "markdown",
   "metadata": {},
   "source": [
    "## Relação sobre o nível de criticidade da doença com o tipo de entrada no hospital"
   ]
  },
  {
   "cell_type": "code",
   "execution_count": null,
   "metadata": {},
   "outputs": [],
   "source": [
    "# Sendo Diabetes, Hipertensão e Asma doenças que podem causar a morte de forma imediata quando não tratada em uma urgência, listamos a relação por tipo de entrada.\n",
    "data = df.loc[\n",
    "    (df[\"Medical Condition\"] == \"Diabetes\") & (df[\"Admission Type\"].notna()),\n",
    "    [\"Medical Condition\", \"Admission Type\"],\n",
    "]\n",
    "tipos_admissoes = [\"Urgent\", \"Emergency\", \"Elective\"]\n",
    "for admissao in tipos_admissoes:\n",
    "    print(\n",
    "        f\"Quantidade entradas do tipo {admissao}: \",\n",
    "        data[\"Admission Type\"].value_counts()[admissao],\n",
    "    )"
   ]
  },
  {
   "cell_type": "code",
   "execution_count": null,
   "metadata": {},
   "outputs": [],
   "source": [
    "data = df.loc[\n",
    "    (df[\"Medical Condition\"] == \"Hypertension\") & (df[\"Admission Type\"].notna()),\n",
    "    [\"Medical Condition\", \"Admission Type\"],\n",
    "]\n",
    "tipos_admissoes = [\"Urgent\", \"Emergency\", \"Elective\"]\n",
    "for admissao in tipos_admissoes:\n",
    "    print(\n",
    "        f\"Quantidade entradas do tipo {admissao}: \",\n",
    "        data[\"Admission Type\"].value_counts()[admissao],\n",
    "    )"
   ]
  },
  {
   "cell_type": "code",
   "execution_count": null,
   "metadata": {},
   "outputs": [],
   "source": [
    "data = df.loc[\n",
    "    (df[\"Medical Condition\"] == \"Asthma\") & (df[\"Admission Type\"].notna()),\n",
    "    [\"Medical Condition\", \"Admission Type\"],\n",
    "]\n",
    "tipos_admissoes = [\"Urgent\", \"Emergency\", \"Elective\"]\n",
    "for admissao in tipos_admissoes:\n",
    "    print(\n",
    "        f\"Quantidade entradas do tipo {admissao}: \",\n",
    "        data[\"Admission Type\"].value_counts()[admissao],\n",
    "    )"
   ]
  },
  {
   "cell_type": "markdown",
   "metadata": {},
   "source": [
    "## Relação entre mudança de medicação utilizada quando alterado o sexo e idade"
   ]
  },
  {
   "cell_type": "code",
   "execution_count": 10,
   "metadata": {},
   "outputs": [],
   "source": [
    "problemas_de_saude = [\n",
    "    \"Cancer\",\n",
    "    \"Obesity\",\n",
    "    \"Diabetes\",\n",
    "    \"Asthma\",\n",
    "    \"Arthritis\",\n",
    "    \"Hypertension\",\n",
    "]"
   ]
  },
  {
   "cell_type": "code",
   "execution_count": null,
   "metadata": {},
   "outputs": [],
   "source": [
    "for problema in problemas_de_saude:\n",
    "    data = alternancia_entre_sexo_tipo_sanguineo_idade_e_medicacao(\n",
    "        df=df, genero=\"Female\", problema_de_saude=problema, idade_min=10, idade_max=30\n",
    "    )\n",
    "\n",
    "    print(f\"Relação para doença: {problema}\")\n",
    "    display(data.value_counts(\"Medication\").sort_values(ascending=True))"
   ]
  },
  {
   "cell_type": "code",
   "execution_count": null,
   "metadata": {},
   "outputs": [],
   "source": [
    "for problema in problemas_de_saude:\n",
    "    data = alternancia_entre_sexo_tipo_sanguineo_idade_e_medicacao(\n",
    "        df=df, genero=\"Female\", problema_de_saude=problema, idade_min=31, idade_max=59\n",
    "    )\n",
    "    print(f\"Relação para doença: {problema}\")\n",
    "    display(data.value_counts(\"Medication\").sort_values(ascending=True))"
   ]
  },
  {
   "cell_type": "code",
   "execution_count": null,
   "metadata": {},
   "outputs": [],
   "source": [
    "for problema in problemas_de_saude:\n",
    "    data = alternancia_entre_sexo_tipo_sanguineo_idade_e_medicacao(\n",
    "        df=df, genero=\"Female\", problema_de_saude=problema, idade_min=60, idade_max=89\n",
    "    )\n",
    "    print(f\"Relação para doença: {problema}\")\n",
    "    display(data.value_counts(\"Medication\").sort_values(ascending=True))"
   ]
  }
 ],
 "metadata": {
  "kernelspec": {
   "display_name": ".venv",
   "language": "python",
   "name": "python3"
  },
  "language_info": {
   "codemirror_mode": {
    "name": "ipython",
    "version": 3
   },
   "file_extension": ".py",
   "mimetype": "text/x-python",
   "name": "python",
   "nbconvert_exporter": "python",
   "pygments_lexer": "ipython3",
   "version": "3.12.3"
  }
 },
 "nbformat": 4,
 "nbformat_minor": 2
}
