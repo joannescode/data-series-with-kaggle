{
 "cells": [
  {
   "cell_type": "code",
   "execution_count": null,
   "metadata": {},
   "outputs": [],
   "source": [
    "! pip3 install pandas matplotlib"
   ]
  },
  {
   "cell_type": "code",
   "execution_count": null,
   "metadata": {},
   "outputs": [],
   "source": [
    "import pandas as pd\n",
    "\n",
    "pd.options.display.float_format = \"{:.2f}\".format"
   ]
  },
  {
   "cell_type": "code",
   "execution_count": null,
   "metadata": {},
   "outputs": [],
   "source": [
    "df = pd.read_csv(\"master.csv\", sep=\",\", decimal=\".\")\n",
    "df.head()"
   ]
  },
  {
   "cell_type": "code",
   "execution_count": null,
   "metadata": {},
   "outputs": [],
   "source": [
    "df.info()"
   ]
  },
  {
   "cell_type": "markdown",
   "metadata": {},
   "source": [
    "# Realizando os tratamentos necessários do DataFrame"
   ]
  },
  {
   "cell_type": "code",
   "execution_count": null,
   "metadata": {},
   "outputs": [],
   "source": [
    "# Removendo espaçamentos desnecessários do nome das colunas\n",
    "list_of_columns = list(df.columns)\n",
    "\n",
    "for column in list_of_columns:\n",
    "    df.rename(columns={f\"{column}\": f\"{column.strip()}\"}, inplace=True)"
   ]
  },
  {
   "cell_type": "code",
   "execution_count": null,
   "metadata": {},
   "outputs": [],
   "source": [
    "# Coletando o range de idade da menor para a maior, convertemos estes valores\n",
    "# para int e inserimos em suas respectivas listas para assim criarmos uma coluna para cada\n",
    "min_age = []\n",
    "max_age = []\n",
    "for index, row in df.iterrows():\n",
    "    min_age.append(row[\"age\"][:2].replace(\"-\", \"\"))\n",
    "    if \"75\" in row[\"age\"][:2].replace(\"-\", \"\"):\n",
    "        max_age.append(\"75\")\n",
    "    else:\n",
    "        max_age.append(row[\"age\"][3:5])\n",
    "\n",
    "min_age = list(map(int, min_age))\n",
    "max_age = list(map(int, max_age))\n",
    "\n",
    "df.insert(2, \"min_age\", min_age)\n",
    "df.insert(3, \"max_age\", max_age)"
   ]
  },
  {
   "cell_type": "code",
   "execution_count": null,
   "metadata": {},
   "outputs": [],
   "source": [
    "# Outros tratamentos\n",
    "df = df.drop(\"country-year\", axis=\"columns\") # remoção da coluna country-year, pois já temos estas informações de forma separada\n",
    "df = df.drop(\"age\", axis=\"columns\") # remoção da coluna age pois já temos estas informações de forma separada\n",
    "df.rename(columns={\"suicides_no\": \"suicides_num\"}, inplace=True) # renomeação desta coluna para uma melhor legibilidade\n",
    "df.fillna({\"HDI for year\": \"0\"}, inplace=True) # filtrando dados nulos para 0\n",
    "df[\"HDI for year\"] = df[\"HDI for year\"].astype(float) # convertendo a coluna anterior em float\n",
    "df[\"gdp_for_year ($)\"] = df[\"gdp_for_year ($)\"].str.replace(\",\", \"\", regex=True) # removendo as virgulas para posteriomente realizar a conversão para float\n",
    "df[\"gdp_for_year ($)\"] = df[\"gdp_for_year ($)\"].astype(float) # convertendo a coluna anterior em float\n",
    "\n",
    "df.info()"
   ]
  },
  {
   "cell_type": "code",
   "execution_count": null,
   "metadata": {},
   "outputs": [],
   "source": [
    "df.head()"
   ]
  },
  {
   "cell_type": "code",
   "execution_count": null,
   "metadata": {},
   "outputs": [],
   "source": []
  }
 ],
 "metadata": {
  "kernelspec": {
   "display_name": ".venv",
   "language": "python",
   "name": "python3"
  },
  "language_info": {
   "codemirror_mode": {
    "name": "ipython",
    "version": 3
   },
   "file_extension": ".py",
   "mimetype": "text/x-python",
   "name": "python",
   "nbconvert_exporter": "python",
   "pygments_lexer": "ipython3",
   "version": "3.12.3"
  }
 },
 "nbformat": 4,
 "nbformat_minor": 2
}
